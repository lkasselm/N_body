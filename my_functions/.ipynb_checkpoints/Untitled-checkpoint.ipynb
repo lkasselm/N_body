{
 "cells": [
  {
   "cell_type": "code",
   "execution_count": 1,
   "id": "ad7ed16c-e91c-48cc-9b52-07a53c8511ff",
   "metadata": {},
   "outputs": [
    {
     "name": "stdout",
     "output_type": "stream",
     "text": [
      "Help on function Burkert in module my_functions.phys:\n",
      "\n",
      "Burkert(r, r_s, rho_s)\n",
      "    Burkert density profile\n",
      "\n",
      "    Inputs:\n",
      "    * r (float, radius variable)\n",
      "    * r_s (float, scale radius parameter)\n",
      "    * rho_s (float, scale density parameter)\n",
      "\n",
      "    Outputs:\n",
      "    rho(r) (float)\n",
      "\n"
     ]
    }
   ],
   "source": [
    "from my_functions import Burkert\n",
    "help(Burkert)"
   ]
  },
  {
   "cell_type": "code",
   "execution_count": 2,
   "id": "bc525e13-711a-410d-ac92-63f2dfe2599b",
   "metadata": {},
   "outputs": [],
   "source": [
    "from my_functions import encl_mass, Burkert"
   ]
  },
  {
   "cell_type": "code",
   "execution_count": 3,
   "id": "56d10f2c-62ca-4646-a992-9867028a5f6d",
   "metadata": {},
   "outputs": [
    {
     "data": {
      "text/plain": [
       "1.597956070366127"
      ]
     },
     "execution_count": 3,
     "metadata": {},
     "output_type": "execute_result"
    }
   ],
   "source": [
    "encl_mass(Burkert, 1,1,1)"
   ]
  }
 ],
 "metadata": {
  "kernelspec": {
   "display_name": "Python 3 (ipykernel)",
   "language": "python",
   "name": "python3"
  },
  "language_info": {
   "codemirror_mode": {
    "name": "ipython",
    "version": 3
   },
   "file_extension": ".py",
   "mimetype": "text/x-python",
   "name": "python",
   "nbconvert_exporter": "python",
   "pygments_lexer": "ipython3",
   "version": "3.12.4"
  }
 },
 "nbformat": 4,
 "nbformat_minor": 5
}
